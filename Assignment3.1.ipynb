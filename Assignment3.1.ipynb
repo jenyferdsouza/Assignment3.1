{
 "cells": [
  {
   "cell_type": "code",
   "execution_count": 1,
   "metadata": {
    "collapsed": true
   },
   "outputs": [],
   "source": [
    "#Write a function to compute 5/0 and use try/except to catch the exceptions"
   ]
  },
  {
   "cell_type": "code",
   "execution_count": 5,
   "metadata": {},
   "outputs": [
    {
     "name": "stdout",
     "output_type": "stream",
     "text": [
      "Wrong Calculation\n"
     ]
    }
   ],
   "source": [
    "def comp(num1,num2):\n",
    "    try:\n",
    "        div1=(num1/num2)\n",
    "    except:\n",
    "        print(\"Wrong input. Please check the numbers\")\n",
    "    else:\n",
    "        print(div1)\n",
    "#    finally:\n",
    "#        print(\"Done\")\n",
    "\n",
    "num1=5\n",
    "num2=0\n",
    "comp(num1,num2)"
   ]
  }
 ],
 "metadata": {
  "kernelspec": {
   "display_name": "Python 3",
   "language": "python",
   "name": "python3"
  },
  "language_info": {
   "codemirror_mode": {
    "name": "ipython",
    "version": 3
   },
   "file_extension": ".py",
   "mimetype": "text/x-python",
   "name": "python",
   "nbconvert_exporter": "python",
   "pygments_lexer": "ipython3",
   "version": "3.6.3"
  }
 },
 "nbformat": 4,
 "nbformat_minor": 2
}
